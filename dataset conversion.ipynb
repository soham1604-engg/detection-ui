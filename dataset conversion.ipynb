{
 "cells": [
  {
   "cell_type": "code",
   "execution_count": null,
   "id": "9bdcaeff-7e9b-41c3-9a98-3e4de067f5bd",
   "metadata": {},
   "outputs": [],
   "source": [
    "import pandas as pd\n",
    "\n",
    "df = pd.read_excel(\"your_dataset.xlsx\")  \n",
    "\n",
    "print(df.columns)\n",
    "\n",
    "\n",
    "df_ai = df[['AI Text 1', 'AI Text 2', 'AI Text 3']].stack().reset_index(level=1, drop=True).to_frame(name='text')\n",
    "df_ai['generated'] = 1  # Label AI text as 1\n",
    "\n",
    "\n",
    "df_human = df[['Handwritten Text']].dropna().rename(columns={'Handwritten Text': 'text'})\n",
    "df_human['generated'] = 0  # Label handwritten text as 0\n",
    "\n",
    "# Concatenate AI and handwritten text into one dataframe\n",
    "updated_df = pd.concat([df_ai, df_human], ignore_index=True)\n",
    "\n",
    "# Save the updated dataset\n",
    "updated_df.to_excel(\"updated_dataset.xlsx\", index=False)  # Save as Excel\n",
    "updated_df.to_csv(\"updated_dataset.csv\", index=False)  # Save as CSV if needed\n",
    "\n",
    "print(\"Dataset updated successfully!\")\n"
   ]
  }
 ],
 "metadata": {
  "kernelspec": {
   "display_name": "Python 3 (ipykernel)",
   "language": "python",
   "name": "python3"
  },
  "language_info": {
   "codemirror_mode": {
    "name": "ipython",
    "version": 3
   },
   "file_extension": ".py",
   "mimetype": "text/x-python",
   "name": "python",
   "nbconvert_exporter": "python",
   "pygments_lexer": "ipython3",
   "version": "3.9.13"
  }
 },
 "nbformat": 4,
 "nbformat_minor": 5
}
