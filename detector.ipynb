{
 "cells": [
  {
   "cell_type": "code",
   "execution_count": 8,
   "id": "4bb9af44-5ad1-43b7-ad30-575a1993ad9a",
   "metadata": {},
   "outputs": [],
   "source": [
    "import pandas as pd\n",
    "import re\n",
    "import nltk\n",
    "from nltk.corpus import stopwords\n",
    "from sklearn.model_selection import train_test_split\n",
    "from sklearn.feature_extraction.text import TfidfVectorizer\n",
    "from sklearn.svm import SVC\n",
    "from sklearn.metrics import accuracy_score\n",
    "import joblib"
   ]
  },
  {
   "cell_type": "code",
   "execution_count": 9,
   "id": "4e62d839-7a9d-4201-a272-e344b6d6b863",
   "metadata": {},
   "outputs": [
    {
     "name": "stderr",
     "output_type": "stream",
     "text": [
      "[nltk_data] Downloading package stopwords to\n",
      "[nltk_data]     C:\\Users\\91700\\AppData\\Roaming\\nltk_data...\n",
      "[nltk_data]   Package stopwords is already up-to-date!\n"
     ]
    }
   ],
   "source": [
    "# Download stopwords if not already present\n",
    "nltk.download('stopwords')\n",
    "STOPWORDS = set(stopwords.words('english'))\n"
   ]
  },
  {
   "cell_type": "code",
   "execution_count": 10,
   "id": "c15500d4-ad47-45e7-98d7-56394a7ffea1",
   "metadata": {},
   "outputs": [],
   "source": [
    "# Load dataset\n",
    "df = pd.read_csv(\"C:/Users/91700/Downloads/updated_dataset.csv\")  # Change path if needed\n"
   ]
  },
  {
   "cell_type": "code",
   "execution_count": 11,
   "id": "2d024d24-6bac-4d16-8330-343e7f1d1759",
   "metadata": {},
   "outputs": [
    {
     "name": "stdout",
     "output_type": "stream",
     "text": [
      "Class Distribution:\n",
      " generated\n",
      "1    277\n",
      "0     94\n",
      "Name: count, dtype: int64\n",
      "Balanced Class Distribution:\n",
      " generated\n",
      "0    94\n",
      "1    94\n",
      "Name: count, dtype: int64\n"
     ]
    }
   ],
   "source": [
    "# Check class balance\n",
    "print(\"Class Distribution:\\n\", df['generated'].value_counts())\n",
    "\n",
    "# Balance dataset (if needed)\n",
    "df_human = df[df['generated'] == 0]\n",
    "df_ai = df[df['generated'] == 1].sample(len(df_human), random_state=42)  # Undersample AI texts\n",
    "df_balanced = pd.concat([df_human, df_ai]).reset_index(drop=True)\n",
    "\n",
    "print(\"Balanced Class Distribution:\\n\", df_balanced['generated'].value_counts())\n"
   ]
  },
  {
   "cell_type": "code",
   "execution_count": 12,
   "id": "84eed2eb-28b1-4431-a18f-dc41db80d59c",
   "metadata": {},
   "outputs": [],
   "source": [
    "# Text Preprocessing Function\n",
    "def clean_text(text):\n",
    "    if pd.isna(text):\n",
    "        return \"\"  # Handle NaN values\n",
    "    text = text.lower()  # Convert to lowercase\n",
    "    text = re.sub(r'\\W', ' ', text)  # Remove special characters\n",
    "    text = re.sub(r'\\s+', ' ', text).strip()  # Remove extra spaces\n",
    "    text = ' '.join([word for word in text.split() if word not in STOPWORDS])  # Remove stopwords\n",
    "    return text\n",
    "\n",
    "# Apply preprocessing\n",
    "df_balanced['text'] = df_balanced['text'].apply(clean_text)"
   ]
  },
  {
   "cell_type": "code",
   "execution_count": 13,
   "id": "a9669db8-f012-499e-89c0-1d972b28f46d",
   "metadata": {},
   "outputs": [],
   "source": [
    "# Train-Test Split (80% training, 20% testing)\n",
    "X_train, X_test, y_train, y_test = train_test_split(df_balanced['text'], df_balanced['generated'], test_size=0.2, random_state=42)\n"
   ]
  },
  {
   "cell_type": "code",
   "execution_count": 14,
   "id": "132c0478-2beb-41bb-af4e-e03846567a84",
   "metadata": {},
   "outputs": [
    {
     "data": {
      "text/plain": [
       "['vectorizer.pkl']"
      ]
     },
     "execution_count": 14,
     "metadata": {},
     "output_type": "execute_result"
    }
   ],
   "source": [
    "# Convert text to TF-IDF features\n",
    "vectorizer = TfidfVectorizer(max_features=5000)\n",
    "X_train_tfidf = vectorizer.fit_transform(X_train)\n",
    "X_test_tfidf = vectorizer.transform(X_test)\n",
    "\n",
    "# Save vectorizer for future use\n",
    "joblib.dump(vectorizer, \"vectorizer.pkl\")"
   ]
  },
  {
   "cell_type": "code",
   "execution_count": 15,
   "id": "cd4f5c70-b7a3-4ec7-ba7f-a7f102c44e46",
   "metadata": {},
   "outputs": [
    {
     "name": "stdout",
     "output_type": "stream",
     "text": [
      "SVM Model Accuracy: 0.32\n"
     ]
    }
   ],
   "source": [
    "# Train SVM Model\n",
    "svm_model = SVC(kernel=\"linear\", probability=True)\n",
    "svm_model.fit(X_train_tfidf, y_train)\n",
    "\n",
    "# Evaluate SVM Model\n",
    "y_pred_svm = svm_model.predict(X_test_tfidf)\n",
    "accuracy_svm = accuracy_score(y_test, y_pred_svm)\n",
    "print(f\"SVM Model Accuracy: {accuracy_svm:.2f}\")\n",
    "\n",
    "# Save the trained SVM model\n",
    "joblib.dump(svm_model, \"svm_ai_text_detector.pkl\")\n",
    "\n",
    "# Load Model & Vectorizer for Prediction\n",
    "svm_model = joblib.load(\"svm_ai_text_detector.pkl\")\n",
    "vectorizer = joblib.load(\"vectorizer.pkl\")"
   ]
  },
  {
   "cell_type": "code",
   "execution_count": 16,
   "id": "bf2451c6-3293-4822-8ed8-a07553902ed6",
   "metadata": {},
   "outputs": [
    {
     "name": "stdout",
     "output_type": "stream",
     "text": [
      "Detection Result: Human-Written\n"
     ]
    }
   ],
   "source": [
    "# AI Text Detection Function\n",
    "def detect_text(input_text):\n",
    "    \"\"\"\n",
    "    Function to detect whether a given text is AI-generated or human-written.\n",
    "    \"\"\"\n",
    "    cleaned_text = clean_text(input_text)  # Preprocess input\n",
    "    vectorized_text = vectorizer.transform([cleaned_text])  # Convert to TF-IDF\n",
    "    prediction = svm_model.predict(vectorized_text)[0]  # Predict\n",
    "    \n",
    "    return \"AI-Generated\" if prediction == 1 else \"Human-Written\"\n",
    "\n",
    "# Example Usage (Test with a known human-written sentence)\n",
    "input_text = \"myself soham\"\n",
    "result = detect_text(input_text)\n",
    "print(f\"Detection Result: {result}\")\n"
   ]
  }
 ],
 "metadata": {
  "kernelspec": {
   "display_name": "Python 3 (ipykernel)",
   "language": "python",
   "name": "python3"
  },
  "language_info": {
   "codemirror_mode": {
    "name": "ipython",
    "version": 3
   },
   "file_extension": ".py",
   "mimetype": "text/x-python",
   "name": "python",
   "nbconvert_exporter": "python",
   "pygments_lexer": "ipython3",
   "version": "3.12.5"
  }
 },
 "nbformat": 4,
 "nbformat_minor": 5
}
